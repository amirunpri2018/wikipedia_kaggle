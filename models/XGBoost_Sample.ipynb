{
 "cells": [
  {
   "cell_type": "code",
   "execution_count": 2,
   "metadata": {
    "collapsed": false
   },
   "outputs": [
    {
     "name": "stdout",
     "output_type": "stream",
     "text": [
      "Using matplotlib backend: MacOSX\n",
      "QuoraKaggle.pem\n",
      "data_dump.zip\n",
      "ec2-user@ec2-52-91-73-35.compute-1.amazonaws.com\n",
      "sample_submission.csv\n",
      "semantic_pos_features.csv\n",
      "stanfordData_train.nlp\n",
      "stanfordData_train_ner.nlp\n",
      "test.csv\n",
      "test_collins_duffy\n",
      "test_dean\n",
      "test_preprocessed\n",
      "test_raw\n",
      "train.csv\n",
      "train_collins_duffy\n",
      "train_dean\n",
      "\n"
     ]
    }
   ],
   "source": [
    "import numpy as np # linear algebra\n",
    "import pandas as pd # data processing, CSV file I/O (e.g. pd.read_csv)\n",
    "import string\n",
    "import matplotlib.pylab as plt\n",
    "from numpy import linalg as LA\n",
    "%matplotlib\n",
    "import seaborn as sns\n",
    "import os\n",
    "from sklearn import metrics\n",
    "# Input data files are available in the \"../input/\" directory.\n",
    "# For example, running this (by clicking run or pressing Shift+Enter) will list the files in the input directory\n",
    "\n",
    "from subprocess import check_output\n",
    "print(check_output([\"ls\", \"input\"]).decode(\"utf8\"))\n",
    "\n",
    "# Any results you write to the current directory are saved as output."
   ]
  },
  {
   "cell_type": "markdown",
   "metadata": {},
   "source": [
    "## Extract, Transform, Load"
   ]
  },
  {
   "cell_type": "code",
   "execution_count": 3,
   "metadata": {
    "collapsed": false
   },
   "outputs": [
    {
     "name": "stdout",
     "output_type": "stream",
     "text": [
      "Shape of base training File =  (404290, 6)\n",
      "Shape of base training data after cleaning =  (404290, 6)\n",
      "Shape of base training File =  (2345796, 3)\n",
      "Shape of base training data after cleaning =  (2345796, 3)\n",
      "['id', 'qid1', 'qid2', 'question1', 'question2', 'is_duplicate']\n"
     ]
    }
   ],
   "source": [
    "from sklearn.model_selection import train_test_split\n",
    "\n",
    "def read_data(path_to_file):\n",
    "    df = pd.read_csv(path_to_file)\n",
    "    print (\"Shape of base training File = \", df.shape)\n",
    "    print(\"Shape of base training data after cleaning = \", df.shape)\n",
    "    return df\n",
    "\n",
    "df_train = read_data(\"input/train.csv\")\n",
    "df_submit = read_data(\"input/test.csv\")\n",
    "\n",
    "# Print the column names\n",
    "print (df_train.columns.values.tolist())"
   ]
  },
  {
   "cell_type": "markdown",
   "metadata": {},
   "source": [
    "## Load the Collins Duffy Training Features "
   ]
  },
  {
   "cell_type": "code",
   "execution_count": 4,
   "metadata": {
    "collapsed": false
   },
   "outputs": [
    {
     "name": "stdout",
     "output_type": "stream",
     "text": [
      "/Users/Matthew/Documents/CIS700/FinalProject_Kaggle/input/train_collins_duffy/sd_1e-1_sst.csv\n",
      "/Users/Matthew/Documents/CIS700/FinalProject_Kaggle/input/train_collins_duffy/sd_1e-1_st.csv\n",
      "/Users/Matthew/Documents/CIS700/FinalProject_Kaggle/input/train_collins_duffy/sd_1e-2_sst.csv\n",
      "/Users/Matthew/Documents/CIS700/FinalProject_Kaggle/input/train_collins_duffy/sd_1e-2_st.csv\n",
      "/Users/Matthew/Documents/CIS700/FinalProject_Kaggle/input/train_collins_duffy/sd_1e0_sst.csv\n",
      "/Users/Matthew/Documents/CIS700/FinalProject_Kaggle/input/train_collins_duffy/sd_1e0_st.csv\n",
      "/Users/Matthew/Documents/CIS700/FinalProject_Kaggle/input/train_collins_duffy/sd_2e-1_sst.csv\n",
      "/Users/Matthew/Documents/CIS700/FinalProject_Kaggle/input/train_collins_duffy/sd_2e-1_st.csv\n",
      "/Users/Matthew/Documents/CIS700/FinalProject_Kaggle/input/train_collins_duffy/sd_5e-1_sst.csv\n",
      "/Users/Matthew/Documents/CIS700/FinalProject_Kaggle/input/train_collins_duffy/sd_5e-1_st.csv\n",
      "/Users/Matthew/Documents/CIS700/FinalProject_Kaggle/input/train_collins_duffy/sd_5e-2_sst.csv\n",
      "/Users/Matthew/Documents/CIS700/FinalProject_Kaggle/input/train_collins_duffy/sd_5e-2_st.csv\n",
      "/Users/Matthew/Documents/CIS700/FinalProject_Kaggle/input/train_collins_duffy/sd_8e-1_sst.csv\n",
      "/Users/Matthew/Documents/CIS700/FinalProject_Kaggle/input/train_collins_duffy/sd_8e-1_st.csv\n"
     ]
    }
   ],
   "source": [
    "df_features = None\n",
    "flip = True\n",
    "base = 'input/train_collins_duffy/'\n",
    "count = 0\n",
    "for filename in os.listdir(base):\n",
    "    if filename.endswith(\".csv\"): \n",
    "        tmpFrame = pd.read_csv(os.path.join(os.getcwd(), base, filename))\n",
    "        print(os.path.join(os.getcwd(), base, filename))\n",
    "        tmpFrame = tmpFrame.rename(columns={'cdNorm_st': filename.replace(\".csv\",\"\")})\n",
    "        if flip:\n",
    "            df_features = tmpFrame\n",
    "            flip = False\n",
    "        else:\n",
    "            df_features = df_features.merge(tmpFrame,how='inner',on='id')\n",
    "        count+=1\n",
    "        continue\n",
    "    else:\n",
    "        continue"
   ]
  },
  {
   "cell_type": "markdown",
   "metadata": {},
   "source": [
    "## Load the Collins Duffy Test Features"
   ]
  },
  {
   "cell_type": "code",
   "execution_count": 5,
   "metadata": {
    "collapsed": false
   },
   "outputs": [
    {
     "name": "stdout",
     "output_type": "stream",
     "text": [
      "/Users/Matthew/Documents/CIS700/FinalProject_Kaggle/input/test_collins_duffy/sd_1e-1_sst.csv\n",
      "/Users/Matthew/Documents/CIS700/FinalProject_Kaggle/input/test_collins_duffy/sd_1e-1_st.csv\n",
      "/Users/Matthew/Documents/CIS700/FinalProject_Kaggle/input/test_collins_duffy/sd_1e-2_sst.csv\n",
      "/Users/Matthew/Documents/CIS700/FinalProject_Kaggle/input/test_collins_duffy/sd_1e-2_st.csv\n",
      "/Users/Matthew/Documents/CIS700/FinalProject_Kaggle/input/test_collins_duffy/sd_1e0_sst.csv\n",
      "/Users/Matthew/Documents/CIS700/FinalProject_Kaggle/input/test_collins_duffy/sd_1e0_st.csv\n",
      "/Users/Matthew/Documents/CIS700/FinalProject_Kaggle/input/test_collins_duffy/sd_2e-1_sst.csv\n",
      "/Users/Matthew/Documents/CIS700/FinalProject_Kaggle/input/test_collins_duffy/sd_2e-1_st.csv\n",
      "/Users/Matthew/Documents/CIS700/FinalProject_Kaggle/input/test_collins_duffy/sd_5e-1_sst.csv\n",
      "/Users/Matthew/Documents/CIS700/FinalProject_Kaggle/input/test_collins_duffy/sd_5e-1_st.csv\n",
      "/Users/Matthew/Documents/CIS700/FinalProject_Kaggle/input/test_collins_duffy/sd_5e-2_sst.csv\n",
      "/Users/Matthew/Documents/CIS700/FinalProject_Kaggle/input/test_collins_duffy/sd_5e-2_st.csv\n",
      "/Users/Matthew/Documents/CIS700/FinalProject_Kaggle/input/test_collins_duffy/sd_8e-1_sst.csv\n",
      "/Users/Matthew/Documents/CIS700/FinalProject_Kaggle/input/test_collins_duffy/sd_8e-1_st.csv\n"
     ]
    }
   ],
   "source": [
    "df_features_test = None\n",
    "flip = True\n",
    "base = 'input/test_collins_duffy/'\n",
    "count = 0\n",
    "for filename in os.listdir(base):\n",
    "    if filename.endswith(\".csv\"): \n",
    "        tmpFrame = pd.read_csv(os.path.join(os.getcwd(), base, filename))\n",
    "        print(os.path.join(os.getcwd(), base, filename))\n",
    "        tmpFrame = tmpFrame.rename(columns={'cdNorm_st': filename.replace(\".csv\",\"\")})\n",
    "        if flip:\n",
    "            df_features_test = tmpFrame\n",
    "            flip = False\n",
    "        else:\n",
    "            df_features_test = df_features_test.merge(tmpFrame,how='inner',on='id')\n",
    "        count+=1\n",
    "        continue\n",
    "    else:\n",
    "        continue"
   ]
  },
  {
   "cell_type": "code",
   "execution_count": 6,
   "metadata": {
    "collapsed": false
   },
   "outputs": [],
   "source": [
    "TREEKERNEL_COL_LABELS = list(df_features.columns)\n",
    "TREEKERNEL_COL_LABELS.remove('id')"
   ]
  },
  {
   "cell_type": "markdown",
   "metadata": {},
   "source": [
    "## Load in Dean's Semantic Features"
   ]
  },
  {
   "cell_type": "code",
   "execution_count": 7,
   "metadata": {
    "collapsed": false
   },
   "outputs": [],
   "source": [
    "df_semantic = pd.read_csv('input/train_dean/dean_train_features.csv')\n",
    "df_semantic.drop('is_duplicate',inplace=True,axis=1)"
   ]
  },
  {
   "cell_type": "code",
   "execution_count": 8,
   "metadata": {
    "collapsed": false
   },
   "outputs": [],
   "source": [
    "SEMANTIC_COL_LABELS = list(df_semantic.columns)\n",
    "SEMANTIC_COL_LABELS.remove('id')"
   ]
  },
  {
   "cell_type": "markdown",
   "metadata": {},
   "source": [
    "## Training the Model"
   ]
  },
  {
   "cell_type": "code",
   "execution_count": 9,
   "metadata": {
    "collapsed": false
   },
   "outputs": [],
   "source": [
    "from sklearn.ensemble import RandomForestClassifier\n",
    "from sklearn.linear_model import LogisticRegression\n",
    "from sklearn.metrics import precision_recall_curve, auc, roc_curve\n",
    "from sklearn.model_selection import GridSearchCV, train_test_split\n",
    "from sklearn.preprocessing import MinMaxScaler\n",
    "\n",
    "# Read in the pre-built features for the training set\n",
    "df_train = df_train.merge(df_features,how='inner',on='id')\n",
    "df_train = df_train.merge(df_semantic,how='inner',on='id')\n",
    "\n",
    "# Methodology - fill with zeroes Any row that crashed the Stanford CoreNLP parser must have been empty string\n",
    "df_train.fillna(value=0, inplace=True)"
   ]
  },
  {
   "cell_type": "markdown",
   "metadata": {},
   "source": [
    "## Resample the Training Set"
   ]
  },
  {
   "cell_type": "code",
   "execution_count": 10,
   "metadata": {
    "collapsed": false
   },
   "outputs": [],
   "source": [
    "target = 0.17\n",
    "P = df_train[df_train['is_duplicate']==1].shape[0]\n",
    "N = df_train[df_train['is_duplicate']==0].shape[0]\n",
    "frac = ((P/target - P)/N)-1\n",
    "n_add = round(frac * N)\n",
    "## Rebalance the training set to match the test set percentage\n",
    "neg_boostrap_sample = df_train[df_train[\"is_duplicate\"] == 0].sample(n = n_add, replace = True)\n",
    "rebalanced_df = pd.concat((neg_boostrap_sample, df_train))"
   ]
  },
  {
   "cell_type": "markdown",
   "metadata": {},
   "source": [
    "## Extract the Features"
   ]
  },
  {
   "cell_type": "code",
   "execution_count": 11,
   "metadata": {
    "collapsed": false
   },
   "outputs": [],
   "source": [
    "select_cols = list(rebalanced_df.columns[6:])\n",
    "df_y = rebalanced_df['is_duplicate']\n",
    "df_X = rebalanced_df[select_cols].copy()\n",
    "\n",
    "df_X.fillna(value=0, inplace=True)"
   ]
  },
  {
   "cell_type": "code",
   "execution_count": 12,
   "metadata": {
    "collapsed": false
   },
   "outputs": [],
   "source": [
    "# Rescale the training data\n",
    "df_X[list(df_X.columns)] = MinMaxScaler().fit_transform(df_X[list(df_X.columns)])\n"
   ]
  },
  {
   "cell_type": "markdown",
   "metadata": {},
   "source": [
    "## XGBoost"
   ]
  },
  {
   "cell_type": "code",
   "execution_count": 13,
   "metadata": {
    "collapsed": false
   },
   "outputs": [
    {
     "name": "stderr",
     "output_type": "stream",
     "text": [
      "/Users/Matthew/miniconda3/envs/bleedingEdge/lib/python3.5/site-packages/sklearn/cross_validation.py:44: DeprecationWarning: This module was deprecated in version 0.18 in favor of the model_selection module into which all the refactored classes and functions are moved. Also note that the interface of the new CV iterators are different from that of this module. This module will be removed in 0.20.\n",
      "  \"This module will be removed in 0.20.\", DeprecationWarning)\n"
     ]
    }
   ],
   "source": [
    "import xgboost as xgb\n",
    "\n",
    "'''\n",
    "alg: XGBClassifier() or XGBRegressor()\n",
    "dtrain: the entire training dataframe\n",
    "predictors: list of feature columns in dtrain\n",
    "target: column we want to classify\n",
    "'''\n",
    "\n",
    "def modelfit(alg, dtrain, predictors, target, useTrainCV=True, cv_folds=5, early_stopping_rounds=2):\n",
    "    \n",
    "    if useTrainCV:\n",
    "        xgb_param = alg.get_xgb_params()\n",
    "        xgtrain = xgb.DMatrix(dtrain[predictors].values, label=target)\n",
    "        cvresult = xgb.cv(xgb_param, \n",
    "                          xgtrain, \n",
    "                          num_boost_round=alg.get_params()['n_estimators'],\n",
    "                          nfold=cv_folds,\n",
    "                          metrics='logloss', \n",
    "                          early_stopping_rounds=early_stopping_rounds, \n",
    "                          verbose_eval=True)\n",
    "        \n",
    "        alg.set_params(n_estimators=cvresult.shape[0])\n",
    "    \n",
    "    #Fit the algorithm on the data\n",
    "    alg.fit(dtrain[predictors], target, eval_metric='logloss')\n",
    "        \n",
    "    #Predict training set:\n",
    "    dtrain_predictions = alg.predict(dtrain[predictors])\n",
    "    dtrain_predprob = alg.predict_proba(dtrain[predictors])[:,1]\n",
    "        \n",
    "    #Print model report:\n",
    "    print(\"\\nModel Report\")\n",
    "    print(\"Accuracy : %.4g\" % metrics.accuracy_score(target, dtrain_predictions))\n",
    "    print(\"AUC Score (Train): %f\" % metrics.roc_auc_score(target, dtrain_predprob))\n",
    "                    \n",
    "    feat_imp = pd.Series(alg.booster().get_fscore()).sort_values(ascending=False)\n",
    "    feat_imp.plot(kind='bar', title='Feature Importances')\n",
    "    plt.ylabel('Feature Importance Score')"
   ]
  },
  {
   "cell_type": "code",
   "execution_count": 14,
   "metadata": {
    "collapsed": false
   },
   "outputs": [
    {
     "name": "stdout",
     "output_type": "stream",
     "text": [
      "[0]\ttrain-logloss:0.643324+5.10788e-05\ttest-logloss:0.643337+3.99169e-05\n",
      "[1]\ttrain-logloss:0.602669+9.91706e-05\ttest-logloss:0.602713+4.48402e-05\n",
      "[2]\ttrain-logloss:0.568873+0.000104182\ttest-logloss:0.568947+5.45586e-05\n",
      "[3]\ttrain-logloss:0.540523+0.000128505\ttest-logloss:0.540609+7.00914e-05\n",
      "[4]\ttrain-logloss:0.516571+9.79767e-05\ttest-logloss:0.516676+8.10901e-05\n",
      "[5]\ttrain-logloss:0.496297+0.000129613\ttest-logloss:0.496416+4.98694e-05\n",
      "[6]\ttrain-logloss:0.478895+8.54602e-05\ttest-logloss:0.479016+0.000103924\n",
      "[7]\ttrain-logloss:0.463972+0.000104724\ttest-logloss:0.464109+0.000140354\n",
      "[8]\ttrain-logloss:0.451093+0.000118544\ttest-logloss:0.451249+0.000179746\n",
      "[9]\ttrain-logloss:0.439954+0.00012113\ttest-logloss:0.44012+0.000212608\n",
      "[10]\ttrain-logloss:0.430295+0.000137647\ttest-logloss:0.430469+0.000241096\n",
      "[11]\ttrain-logloss:0.421904+0.000105428\ttest-logloss:0.422103+0.000250143\n",
      "[12]\ttrain-logloss:0.414613+0.00011111\ttest-logloss:0.41483+0.000259504\n",
      "[13]\ttrain-logloss:0.408243+9.52617e-05\ttest-logloss:0.408477+0.000280714\n",
      "[14]\ttrain-logloss:0.402631+0.000124891\ttest-logloss:0.402886+0.000280576\n",
      "[15]\ttrain-logloss:0.397722+0.000128614\ttest-logloss:0.397989+0.000273497\n",
      "[16]\ttrain-logloss:0.393394+0.000125364\ttest-logloss:0.393671+0.000238948\n",
      "[17]\ttrain-logloss:0.389604+0.000141457\ttest-logloss:0.389892+0.000187235\n",
      "[18]\ttrain-logloss:0.386269+0.000149907\ttest-logloss:0.386567+0.000181976\n",
      "[19]\ttrain-logloss:0.383312+0.000160552\ttest-logloss:0.383623+0.000180714\n",
      "[20]\ttrain-logloss:0.380717+0.000158426\ttest-logloss:0.381057+0.000189292\n",
      "[21]\ttrain-logloss:0.378397+0.00017563\ttest-logloss:0.378748+0.000151376\n",
      "[22]\ttrain-logloss:0.376344+0.000118981\ttest-logloss:0.37672+0.000240052\n",
      "[23]\ttrain-logloss:0.374544+0.00015153\ttest-logloss:0.374939+0.00022441\n",
      "[24]\ttrain-logloss:0.372952+0.000139478\ttest-logloss:0.373362+0.000237935\n",
      "[25]\ttrain-logloss:0.371537+0.000157225\ttest-logloss:0.371964+0.000229025\n",
      "[26]\ttrain-logloss:0.370238+0.000150191\ttest-logloss:0.370691+0.000273026\n",
      "[27]\ttrain-logloss:0.369093+0.000147289\ttest-logloss:0.369566+0.000276961\n",
      "[28]\ttrain-logloss:0.368053+0.000173688\ttest-logloss:0.368554+0.00027631\n",
      "[29]\ttrain-logloss:0.367143+0.000195908\ttest-logloss:0.367668+0.000265541\n",
      "[30]\ttrain-logloss:0.366297+0.000226919\ttest-logloss:0.366848+0.000287734\n",
      "[31]\ttrain-logloss:0.365557+0.000210457\ttest-logloss:0.36613+0.000303172\n",
      "[32]\ttrain-logloss:0.364841+0.000194517\ttest-logloss:0.365442+0.000312789\n",
      "[33]\ttrain-logloss:0.364203+0.000173076\ttest-logloss:0.364826+0.000328922\n",
      "[34]\ttrain-logloss:0.363638+0.000182693\ttest-logloss:0.364283+0.000303876\n",
      "[35]\ttrain-logloss:0.363125+0.000200748\ttest-logloss:0.363789+0.000316072\n",
      "[36]\ttrain-logloss:0.362671+0.000190437\ttest-logloss:0.363358+0.000330502\n",
      "[37]\ttrain-logloss:0.362209+0.000196451\ttest-logloss:0.362914+0.00033438\n",
      "[38]\ttrain-logloss:0.361845+0.000192399\ttest-logloss:0.362569+0.000339137\n",
      "[39]\ttrain-logloss:0.361477+0.000182848\ttest-logloss:0.362211+0.000306933\n",
      "[40]\ttrain-logloss:0.361179+0.000203118\ttest-logloss:0.361934+0.000318705\n",
      "[41]\ttrain-logloss:0.360877+0.000185109\ttest-logloss:0.361654+0.000298686\n",
      "[42]\ttrain-logloss:0.36054+0.000152718\ttest-logloss:0.361327+0.000276413\n",
      "[43]\ttrain-logloss:0.360248+0.000134938\ttest-logloss:0.361055+0.000310913\n",
      "[44]\ttrain-logloss:0.359974+0.000119898\ttest-logloss:0.3608+0.000319977\n",
      "[45]\ttrain-logloss:0.359718+0.000117851\ttest-logloss:0.360565+0.000325521\n",
      "[46]\ttrain-logloss:0.359478+0.000117348\ttest-logloss:0.360345+0.000303995\n",
      "[47]\ttrain-logloss:0.359268+0.000124607\ttest-logloss:0.360162+0.000318122\n",
      "[48]\ttrain-logloss:0.358937+0.000148373\ttest-logloss:0.359845+0.000252969\n",
      "[49]\ttrain-logloss:0.358692+0.000142048\ttest-logloss:0.359613+0.000227898\n",
      "[50]\ttrain-logloss:0.35848+0.000163642\ttest-logloss:0.359427+0.000216879\n",
      "[51]\ttrain-logloss:0.358256+0.000210856\ttest-logloss:0.359226+0.000192774\n",
      "[52]\ttrain-logloss:0.358014+0.000223987\ttest-logloss:0.359012+0.000206973\n",
      "[53]\ttrain-logloss:0.357841+0.000241289\ttest-logloss:0.35886+0.000207072\n",
      "[54]\ttrain-logloss:0.357634+0.000241689\ttest-logloss:0.358674+0.000233093\n",
      "[55]\ttrain-logloss:0.35742+0.000263351\ttest-logloss:0.358473+0.000199492\n",
      "[56]\ttrain-logloss:0.35719+0.000278529\ttest-logloss:0.35827+0.000201825\n",
      "[57]\ttrain-logloss:0.357059+0.000290332\ttest-logloss:0.358155+0.000170743\n",
      "[58]\ttrain-logloss:0.356885+0.000307823\ttest-logloss:0.357997+0.000174237\n",
      "[59]\ttrain-logloss:0.35675+0.000311569\ttest-logloss:0.357887+0.000184329\n",
      "[60]\ttrain-logloss:0.356597+0.000312284\ttest-logloss:0.357754+0.000160874\n",
      "[61]\ttrain-logloss:0.356441+0.000342918\ttest-logloss:0.35761+0.00014037\n",
      "[62]\ttrain-logloss:0.356283+0.000324377\ttest-logloss:0.357468+0.000129688\n",
      "[63]\ttrain-logloss:0.356085+0.0003008\ttest-logloss:0.357287+0.000139879\n",
      "[64]\ttrain-logloss:0.355941+0.000233368\ttest-logloss:0.357161+0.000127119\n",
      "[65]\ttrain-logloss:0.355795+0.000267085\ttest-logloss:0.35704+0.000126842\n",
      "[66]\ttrain-logloss:0.355611+0.000210864\ttest-logloss:0.356875+0.000140643\n",
      "[67]\ttrain-logloss:0.355478+0.000197426\ttest-logloss:0.35676+0.000151466\n",
      "[68]\ttrain-logloss:0.355367+0.000203809\ttest-logloss:0.356667+0.000160324\n",
      "[69]\ttrain-logloss:0.355209+0.000205632\ttest-logloss:0.35653+0.000182085\n",
      "[70]\ttrain-logloss:0.355056+0.000200258\ttest-logloss:0.356397+0.000196731\n",
      "[71]\ttrain-logloss:0.354868+0.000192101\ttest-logloss:0.356219+0.000169831\n",
      "[72]\ttrain-logloss:0.354741+0.000175145\ttest-logloss:0.356112+0.0001867\n",
      "[73]\ttrain-logloss:0.354569+0.000175345\ttest-logloss:0.35596+0.000147178\n",
      "[74]\ttrain-logloss:0.354441+0.000162878\ttest-logloss:0.35584+0.000174219\n",
      "[75]\ttrain-logloss:0.354287+0.000187863\ttest-logloss:0.355719+0.000169978\n",
      "[76]\ttrain-logloss:0.354167+0.000155417\ttest-logloss:0.355623+0.000195394\n",
      "[77]\ttrain-logloss:0.35406+0.000173296\ttest-logloss:0.355527+0.000161431\n",
      "[78]\ttrain-logloss:0.353929+0.000202189\ttest-logloss:0.355414+0.000177546\n",
      "[79]\ttrain-logloss:0.35381+0.000187756\ttest-logloss:0.355305+0.000176033\n",
      "[80]\ttrain-logloss:0.353707+0.000187281\ttest-logloss:0.355215+0.000161984\n",
      "[81]\ttrain-logloss:0.353591+0.000218153\ttest-logloss:0.355117+0.000130798\n",
      "[82]\ttrain-logloss:0.353459+0.000207754\ttest-logloss:0.355005+0.000166001\n",
      "[83]\ttrain-logloss:0.353349+0.000211153\ttest-logloss:0.354915+0.00013712\n",
      "[84]\ttrain-logloss:0.353252+0.00018067\ttest-logloss:0.354827+0.00015516\n",
      "[85]\ttrain-logloss:0.353141+0.000175341\ttest-logloss:0.354737+0.000190562\n",
      "[86]\ttrain-logloss:0.353003+0.000134341\ttest-logloss:0.354622+0.000212435\n",
      "[87]\ttrain-logloss:0.352899+0.000138643\ttest-logloss:0.354532+0.000206924\n",
      "[88]\ttrain-logloss:0.352811+0.000139006\ttest-logloss:0.354456+0.000225896\n",
      "[89]\ttrain-logloss:0.352723+0.000138375\ttest-logloss:0.354389+0.000227751\n",
      "[90]\ttrain-logloss:0.352608+0.00015701\ttest-logloss:0.354291+0.000187385\n",
      "[91]\ttrain-logloss:0.352522+0.000168207\ttest-logloss:0.354226+0.000185961\n",
      "[92]\ttrain-logloss:0.352407+0.000195432\ttest-logloss:0.354125+0.000185253\n",
      "[93]\ttrain-logloss:0.352295+0.00020764\ttest-logloss:0.354027+0.000212492\n",
      "[94]\ttrain-logloss:0.352162+0.000206172\ttest-logloss:0.353914+0.000228911\n",
      "[95]\ttrain-logloss:0.352071+0.0002012\ttest-logloss:0.353841+0.000216032\n",
      "[96]\ttrain-logloss:0.35194+0.000230486\ttest-logloss:0.353732+0.00022772\n",
      "[97]\ttrain-logloss:0.351837+0.000194402\ttest-logloss:0.353655+0.000231627\n",
      "[98]\ttrain-logloss:0.351688+0.000195446\ttest-logloss:0.353534+0.000233562\n",
      "[99]\ttrain-logloss:0.351577+0.0002\ttest-logloss:0.353435+0.000229226\n",
      "[100]\ttrain-logloss:0.351453+0.000238919\ttest-logloss:0.353328+0.000232383\n",
      "[101]\ttrain-logloss:0.351349+0.000227627\ttest-logloss:0.353244+0.000223783\n",
      "[102]\ttrain-logloss:0.351229+0.000200241\ttest-logloss:0.35315+0.000245826\n",
      "[103]\ttrain-logloss:0.351106+0.000233039\ttest-logloss:0.353042+0.000279425\n",
      "[104]\ttrain-logloss:0.350996+0.000240593\ttest-logloss:0.35295+0.000264579\n",
      "[105]\ttrain-logloss:0.350862+0.000280323\ttest-logloss:0.352834+0.000265833\n",
      "[106]\ttrain-logloss:0.350756+0.000285175\ttest-logloss:0.352744+0.000250339\n",
      "[107]\ttrain-logloss:0.350666+0.000264409\ttest-logloss:0.352674+0.000253538\n",
      "[108]\ttrain-logloss:0.350598+0.000245436\ttest-logloss:0.352621+0.000257677\n",
      "[109]\ttrain-logloss:0.350487+0.000183858\ttest-logloss:0.352528+0.000293988\n",
      "[110]\ttrain-logloss:0.350387+0.000181437\ttest-logloss:0.352442+0.000309526\n",
      "[111]\ttrain-logloss:0.350245+0.000205409\ttest-logloss:0.352324+0.000265537\n",
      "[112]\ttrain-logloss:0.350143+0.000237057\ttest-logloss:0.352247+0.000263582\n",
      "[113]\ttrain-logloss:0.350038+0.000204219\ttest-logloss:0.352156+0.000270985\n",
      "[114]\ttrain-logloss:0.349937+0.000203349\ttest-logloss:0.352064+0.000255987\n",
      "[115]\ttrain-logloss:0.349843+0.000179593\ttest-logloss:0.351982+0.000252548\n",
      "[116]\ttrain-logloss:0.349718+0.000208746\ttest-logloss:0.351878+0.000218611\n",
      "[117]\ttrain-logloss:0.349633+0.00024812\ttest-logloss:0.351808+0.000220353\n",
      "[118]\ttrain-logloss:0.349524+0.000252375\ttest-logloss:0.351719+0.000217857\n",
      "[119]\ttrain-logloss:0.34942+0.000260669\ttest-logloss:0.35163+0.000219474\n",
      "[120]\ttrain-logloss:0.349304+0.000240483\ttest-logloss:0.351537+0.000231079\n",
      "[121]\ttrain-logloss:0.349218+0.000245365\ttest-logloss:0.351472+0.000226345\n",
      "[122]\ttrain-logloss:0.349116+0.000238972\ttest-logloss:0.351392+0.000216355\n",
      "[123]\ttrain-logloss:0.349039+0.000221108\ttest-logloss:0.351332+0.000217067\n",
      "[124]\ttrain-logloss:0.348936+0.000207205\ttest-logloss:0.351246+0.000220695\n",
      "[125]\ttrain-logloss:0.348862+0.000192883\ttest-logloss:0.351191+0.000217682\n",
      "[126]\ttrain-logloss:0.348785+0.000182914\ttest-logloss:0.351123+0.000217527\n",
      "[127]\ttrain-logloss:0.34868+0.000172137\ttest-logloss:0.351045+0.000242286\n",
      "[128]\ttrain-logloss:0.348595+0.000180478\ttest-logloss:0.350974+0.000257784\n",
      "[129]\ttrain-logloss:0.348493+0.000187663\ttest-logloss:0.350892+0.000300657\n",
      "[130]\ttrain-logloss:0.348407+0.000173888\ttest-logloss:0.350825+0.00032172\n",
      "[131]\ttrain-logloss:0.348329+0.000164719\ttest-logloss:0.350765+0.000296397\n",
      "[132]\ttrain-logloss:0.34824+0.000154774\ttest-logloss:0.350696+0.00031344\n",
      "[133]\ttrain-logloss:0.348164+0.000174476\ttest-logloss:0.350635+0.000326372\n",
      "[134]\ttrain-logloss:0.348087+0.000161357\ttest-logloss:0.350579+0.000330747\n",
      "[135]\ttrain-logloss:0.347983+0.000126988\ttest-logloss:0.350495+0.000329951\n",
      "[136]\ttrain-logloss:0.347906+0.000133617\ttest-logloss:0.350431+0.000328757\n",
      "[137]\ttrain-logloss:0.34783+0.000139007\ttest-logloss:0.350372+0.000319593\n",
      "[138]\ttrain-logloss:0.347754+0.000133841\ttest-logloss:0.350319+0.000302492\n",
      "[139]\ttrain-logloss:0.347711+0.000134335\ttest-logloss:0.350294+0.000303456\n",
      "[140]\ttrain-logloss:0.347625+0.000144411\ttest-logloss:0.350225+0.000290851\n",
      "[141]\ttrain-logloss:0.347565+0.000136429\ttest-logloss:0.350184+0.000301984\n",
      "[142]\ttrain-logloss:0.347489+0.000113422\ttest-logloss:0.350126+0.000341499\n",
      "[143]\ttrain-logloss:0.347414+0.000125541\ttest-logloss:0.350072+0.000331477\n",
      "[144]\ttrain-logloss:0.347333+0.000128807\ttest-logloss:0.350004+0.000328094\n",
      "[145]\ttrain-logloss:0.34725+0.000133446\ttest-logloss:0.349937+0.000348006\n",
      "[146]\ttrain-logloss:0.347159+0.000169339\ttest-logloss:0.349866+0.000341708\n",
      "[147]\ttrain-logloss:0.347083+0.000171859\ttest-logloss:0.349808+0.000320167\n",
      "[148]\ttrain-logloss:0.34701+0.000186045\ttest-logloss:0.349748+0.000316356\n",
      "[149]\ttrain-logloss:0.346903+0.000178749\ttest-logloss:0.349668+0.000327211\n",
      "[150]\ttrain-logloss:0.346831+0.000170958\ttest-logloss:0.34961+0.000331506\n",
      "[151]\ttrain-logloss:0.34674+0.000170895\ttest-logloss:0.349544+0.000305381\n",
      "[152]\ttrain-logloss:0.346653+0.000169601\ttest-logloss:0.349474+0.00030466\n",
      "[153]\ttrain-logloss:0.346575+0.000181368\ttest-logloss:0.349418+0.00028283\n",
      "[154]\ttrain-logloss:0.346517+0.000164855\ttest-logloss:0.349375+0.000296664\n",
      "[155]\ttrain-logloss:0.346432+0.000190856\ttest-logloss:0.349306+0.000297407\n",
      "[156]\ttrain-logloss:0.346329+0.000185124\ttest-logloss:0.349224+0.00031956\n",
      "[157]\ttrain-logloss:0.346252+0.000202912\ttest-logloss:0.349165+0.000318753\n",
      "[158]\ttrain-logloss:0.346165+0.000208173\ttest-logloss:0.349101+0.000341724\n",
      "[159]\ttrain-logloss:0.346106+0.000217425\ttest-logloss:0.34906+0.000339814\n",
      "[160]\ttrain-logloss:0.346063+0.000206696\ttest-logloss:0.349033+0.000338611\n",
      "[161]\ttrain-logloss:0.345987+0.00021221\ttest-logloss:0.348974+0.00031254\n",
      "[162]\ttrain-logloss:0.345922+0.000208559\ttest-logloss:0.348929+0.000330929\n",
      "[163]\ttrain-logloss:0.345833+0.000197899\ttest-logloss:0.348859+0.000310555\n",
      "[164]\ttrain-logloss:0.345744+0.000210852\ttest-logloss:0.348779+0.00030838\n",
      "[165]\ttrain-logloss:0.345664+0.000201097\ttest-logloss:0.348721+0.000333965\n",
      "[166]\ttrain-logloss:0.345582+0.000194203\ttest-logloss:0.348658+0.000342872\n",
      "[167]\ttrain-logloss:0.345498+0.000198289\ttest-logloss:0.348591+0.000349887\n",
      "[168]\ttrain-logloss:0.345436+0.000206158\ttest-logloss:0.348544+0.000319735\n",
      "[169]\ttrain-logloss:0.34537+0.000219638\ttest-logloss:0.348498+0.000315024\n",
      "[170]\ttrain-logloss:0.345309+0.000217587\ttest-logloss:0.348455+0.00030469\n",
      "[171]\ttrain-logloss:0.345247+0.000239848\ttest-logloss:0.348408+0.000311308\n",
      "[172]\ttrain-logloss:0.345176+0.000232484\ttest-logloss:0.348355+0.000302486\n",
      "[173]\ttrain-logloss:0.345072+0.000217562\ttest-logloss:0.348264+0.000337779\n",
      "[174]\ttrain-logloss:0.344968+0.000227526\ttest-logloss:0.348179+0.000311012\n",
      "[175]\ttrain-logloss:0.344908+0.000231997\ttest-logloss:0.348133+0.000303644\n",
      "[176]\ttrain-logloss:0.344839+0.000222168\ttest-logloss:0.348081+0.000309446\n",
      "[177]\ttrain-logloss:0.34478+0.000216872\ttest-logloss:0.348042+0.000329002\n",
      "[178]\ttrain-logloss:0.34473+0.000226548\ttest-logloss:0.348008+0.000326842\n",
      "[179]\ttrain-logloss:0.344654+0.000233424\ttest-logloss:0.347953+0.000347444\n",
      "[180]\ttrain-logloss:0.344567+0.000232265\ttest-logloss:0.347886+0.0003613\n",
      "[181]\ttrain-logloss:0.3445+0.00024531\ttest-logloss:0.347839+0.000379336\n",
      "[182]\ttrain-logloss:0.344433+0.000245212\ttest-logloss:0.347789+0.000375005\n",
      "[183]\ttrain-logloss:0.344362+0.000262515\ttest-logloss:0.347745+0.000374423\n",
      "[184]\ttrain-logloss:0.344286+0.000240688\ttest-logloss:0.347685+0.000376436\n",
      "[185]\ttrain-logloss:0.344203+0.000231131\ttest-logloss:0.347624+0.000388603\n",
      "[186]\ttrain-logloss:0.344136+0.000242927\ttest-logloss:0.347576+0.000378837\n",
      "[187]\ttrain-logloss:0.34405+0.000234435\ttest-logloss:0.347508+0.000356101\n",
      "[188]\ttrain-logloss:0.343972+0.000215679\ttest-logloss:0.347443+0.000369059\n",
      "[189]\ttrain-logloss:0.343912+0.000212878\ttest-logloss:0.347402+0.000358822\n",
      "[190]\ttrain-logloss:0.343827+0.000193832\ttest-logloss:0.347342+0.00036209\n",
      "[191]\ttrain-logloss:0.343779+0.000202634\ttest-logloss:0.347305+0.00035593\n",
      "[192]\ttrain-logloss:0.343708+0.000217345\ttest-logloss:0.347251+0.000371113\n",
      "[193]\ttrain-logloss:0.343654+0.000231636\ttest-logloss:0.347214+0.000373804\n",
      "[194]\ttrain-logloss:0.343571+0.000204773\ttest-logloss:0.347149+0.000376523\n",
      "[195]\ttrain-logloss:0.343526+0.000199125\ttest-logloss:0.347118+0.000384788\n",
      "[196]\ttrain-logloss:0.343471+0.000187004\ttest-logloss:0.347082+0.000385073\n",
      "[197]\ttrain-logloss:0.343395+0.000196944\ttest-logloss:0.347024+0.000374053\n",
      "[198]\ttrain-logloss:0.343336+0.000187986\ttest-logloss:0.34699+0.000364184\n",
      "[199]\ttrain-logloss:0.343288+0.000175795\ttest-logloss:0.346952+0.000376499\n",
      "\n",
      "Model Report\n",
      "Accuracy : 0.8442\n",
      "AUC Score (Train): 0.833941\n"
     ]
    }
   ],
   "source": [
    "#Choose all predictors except target & IDcols\n",
    "xgb1 = xgb.XGBClassifier(\n",
    " learning_rate =0.1,\n",
    " n_estimators=200,\n",
    " max_depth=5,\n",
    " min_child_weight=1,\n",
    " gamma=0,\n",
    " subsample=0.8,\n",
    " colsample_bytree=0.8,\n",
    " objective= 'binary:logistic',\n",
    " nthread=4,\n",
    " scale_pos_weight=1,\n",
    " seed=27)\n",
    "\n",
    "modelfit(xgb1, df_X, SEMANTIC_COL_LABELS + TREEKERNEL_COL_LABELS, df_y.values)"
   ]
  },
  {
   "cell_type": "markdown",
   "metadata": {},
   "source": [
    "## Load in test set features"
   ]
  },
  {
   "cell_type": "code",
   "execution_count": 15,
   "metadata": {
    "collapsed": true
   },
   "outputs": [],
   "source": [
    "df_semantic_test = pd.read_csv('input/test_dean/dean_test_features.csv')"
   ]
  },
  {
   "cell_type": "code",
   "execution_count": 16,
   "metadata": {
    "collapsed": false
   },
   "outputs": [],
   "source": [
    "# Read in the pre-built features for the test set\n",
    "df_submit = df_submit.merge(df_features_test,how='left',left_on='test_id',right_on='id')\n",
    "# df_train = df_train.merge(df_semantic,how='inner',on='id')\n",
    "df_submit.drop(['id'],inplace=True,axis=1)\n",
    "df_submit = df_submit.merge(df_semantic_test,how='left',left_on='test_id',right_on='id')\n",
    "df_submit.drop(['id'],inplace=True,axis=1)\n",
    "\n",
    "# Methodology - fill with zeroes Any row that crashed the Stanford CoreNLP parser must have been empty string\n",
    "df_submit.fillna(value=0, inplace=True)"
   ]
  },
  {
   "cell_type": "code",
   "execution_count": 17,
   "metadata": {
    "collapsed": false
   },
   "outputs": [],
   "source": [
    "# df_submit_features = df_submit[df_submit.columns[3:]].values\n",
    "\n",
    "# d_test = xgb.DMatrix(df_submit_features)\n",
    "# p_test = bst.predict(d_test)\n",
    "\n",
    "# df_submit['is_duplicate'] = p_test"
   ]
  },
  {
   "cell_type": "code",
   "execution_count": 18,
   "metadata": {
    "collapsed": false
   },
   "outputs": [],
   "source": [
    "y_pred = xgb1.predict_proba(df_submit[SEMANTIC_COL_LABELS + TREEKERNEL_COL_LABELS])\n",
    "# evaluate predictions\n",
    "df_submit['is_duplicate'] = y_pred[:,1]"
   ]
  },
  {
   "cell_type": "code",
   "execution_count": 19,
   "metadata": {
    "collapsed": true
   },
   "outputs": [],
   "source": [
    "# The final submission set\n",
    "df_final_submit = df_submit[['test_id','is_duplicate']]"
   ]
  },
  {
   "cell_type": "code",
   "execution_count": null,
   "metadata": {
    "collapsed": false
   },
   "outputs": [],
   "source": [
    "# plt.hist(df_submit['is_duplicate'], 50, normed=1, facecolor='green', alpha=0.75)"
   ]
  },
  {
   "cell_type": "code",
   "execution_count": 20,
   "metadata": {
    "collapsed": false
   },
   "outputs": [],
   "source": [
    "df_final_submit.to_csv(\"submissions/submission_xgb2_cv.csv\",index=False)"
   ]
  },
  {
   "cell_type": "code",
   "execution_count": null,
   "metadata": {
    "collapsed": true
   },
   "outputs": [],
   "source": []
  }
 ],
 "metadata": {
  "kernelspec": {
   "display_name": "Python 3",
   "language": "python",
   "name": "python3"
  },
  "language_info": {
   "codemirror_mode": {
    "name": "ipython",
    "version": 3
   },
   "file_extension": ".py",
   "mimetype": "text/x-python",
   "name": "python",
   "nbconvert_exporter": "python",
   "pygments_lexer": "ipython3",
   "version": "3.5.2"
  }
 },
 "nbformat": 4,
 "nbformat_minor": 0
}
