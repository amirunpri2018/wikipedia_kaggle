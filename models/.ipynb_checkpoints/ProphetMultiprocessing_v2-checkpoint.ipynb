{
 "cells": [
  {
   "cell_type": "code",
   "execution_count": 1,
   "metadata": {
    "collapsed": true
   },
   "outputs": [],
   "source": [
    "import pandas as pd\n",
    "import numpy as np\n",
    "from collections import defaultdict\n",
    "from fbprophet import Prophet\n",
    "import datetime\n",
    "import multiprocessing\n",
    "import sys"
   ]
  },
  {
   "cell_type": "markdown",
   "metadata": {},
   "source": [
    "# Read in Raw Data and Keys"
   ]
  },
  {
   "cell_type": "code",
   "execution_count": 2,
   "metadata": {
    "collapsed": false
   },
   "outputs": [],
   "source": [
    "# Read in an take the transpose\n",
    "rawData_df = pd.read_csv('../input/train.csv')\n",
    "# Fill all NaN with zeros\n",
    "rawData_df.fillna(value=0.0, inplace=True)"
   ]
  },
  {
   "cell_type": "markdown",
   "metadata": {},
   "source": [
    "# Create Date Range"
   ]
  },
  {
   "cell_type": "code",
   "execution_count": 3,
   "metadata": {
    "collapsed": false
   },
   "outputs": [],
   "source": [
    "date_start = datetime.date(2017, 1, 1)\n",
    "date_end = datetime.date(2017, 3, 1)\n",
    "num_days = 60\n",
    "\n",
    "date_list = [date_start + datetime.timedelta(days=x) for x in range(0, num_days)]"
   ]
  },
  {
   "cell_type": "markdown",
   "metadata": {},
   "source": [
    "# Date Dataframe for Future Prediction"
   ]
  },
  {
   "cell_type": "code",
   "execution_count": 4,
   "metadata": {
    "collapsed": false
   },
   "outputs": [],
   "source": [
    "future_df = pd.DataFrame(date_list, columns=['ds'])"
   ]
  },
  {
   "cell_type": "markdown",
   "metadata": {},
   "source": [
    "### Set up Multiprocessing"
   ]
  },
  {
   "cell_type": "code",
   "execution_count": 5,
   "metadata": {
    "collapsed": false
   },
   "outputs": [],
   "source": [
    "# Take the transpose\n",
    "rawData_df = rawData_df.T"
   ]
  },
  {
   "cell_type": "code",
   "execution_count": 6,
   "metadata": {
    "collapsed": true
   },
   "outputs": [],
   "source": [
    "FORECAST_DIR = 'forecasts/'"
   ]
  },
  {
   "cell_type": "code",
   "execution_count": 15,
   "metadata": {
    "collapsed": false
   },
   "outputs": [],
   "source": [
    "def ProcessTimeSeries(idx):\n",
    "    # Repeat the page name, date name times\n",
    "    page_name = rawData_df.iloc[0, idx]\n",
    "    page_name_list = [page_name] * len(date_list)\n",
    "    \n",
    "    try:\n",
    "    \n",
    "        # Set up the test frame\n",
    "        test_df = rawData_df.iloc[1:, idx].to_frame().reset_index().fillna(method='ffill')\n",
    "        test_df.columns = ['ds','y']\n",
    "        test_df['ds'] = pd.to_datetime(test_df['ds'],format='%Y-%m-%d')\n",
    "\n",
    "        # Train Out-of-the-box Prophet on the test dataframe\n",
    "        m = Prophet(yearly_seasonality=True)\n",
    "        m.fit(test_df)\n",
    "\n",
    "        # Make a forecast\n",
    "        forecast = m.predict(future_df)\n",
    "        forecast = forecast[['ds', 'yhat']]\n",
    "        \n",
    "       \n",
    "        forecast['page_date'] = pd.Series([\"{0}_{1}\".format(a_, b_) for a_, b_ in zip(page_name_list, date_list)])\n",
    "        \n",
    "        return {'page':page_name,\n",
    "                'forecast':forecast.round(4) \n",
    "        }\n",
    "    \n",
    "    except:\n",
    "        with open(FORECAST_DIR + 'error_log', 'a') as f:\n",
    "            f.write(page_name + '\\n')\n",
    "        f.closed\n",
    "        return { 'page': page_name,\n",
    "                'forecast': pd.DataFrame()\n",
    "        }"
   ]
  },
  {
   "cell_type": "markdown",
   "metadata": {},
   "source": [
    "### Run Multiprocessing"
   ]
  },
  {
   "cell_type": "code",
   "execution_count": 23,
   "metadata": {
    "collapsed": false
   },
   "outputs": [
    {
     "name": "stdout",
     "output_type": "stream",
     "text": [
      "writing\n",
      "writing\n",
      "writing\n",
      "writing\n"
     ]
    }
   ],
   "source": [
    "globalCount = 0\n",
    "jointFrame = pd.DataFrame()\n",
    "\n",
    "pool = multiprocessing.Pool()\n",
    "for resFrame in pool.imap_unordered(ProcessTimeSeries, list(range(0, rawData_df.shape[1]))):\n",
    "    globalCount = globalCount+1\n",
    "    \n",
    "    # Alway update the joint frame\n",
    "    if (jointFrame.empty):\n",
    "        jointFrame = resFrame['forecast']\n",
    "    else:\n",
    "        jointFrame = jointFrame.append(resFrame['forecast'], ignore_index=True)\n",
    "    \n",
    "    # Reached reasonable row count -> spit joint frame to file and reset\n",
    "    if (globalCount % 20000 == 0):\n",
    "        print(\"writing\")\n",
    "        with open(FORECAST_DIR + 'all_rows.csv', 'a') as f:\n",
    "            jointFrame.to_csv(f, header=False)\n",
    "        \n",
    "        # zero the counter   \n",
    "        globalCount = 0 \n",
    "        # Empty the joint frame\n",
    "        jointFrame = pd.DataFrame() # \n",
    "\n",
    "# All rows done close the pool\n",
    "pool.close()\n",
    "pool.join()\n",
    "                     \n",
    "# Flush the jointFrame before closing\n",
    "with open(FORECAST_DIR + 'all_rows.csv', 'a') as f:\n",
    "    jointFrame.to_csv(f, header=False)"
   ]
  },
  {
   "cell_type": "code",
   "execution_count": null,
   "metadata": {
    "collapsed": true
   },
   "outputs": [],
   "source": []
  }
 ],
 "metadata": {
  "kernelspec": {
   "display_name": "Python 3",
   "language": "python",
   "name": "python3"
  },
  "language_info": {
   "codemirror_mode": {
    "name": "ipython",
    "version": 3
   },
   "file_extension": ".py",
   "mimetype": "text/x-python",
   "name": "python",
   "nbconvert_exporter": "python",
   "pygments_lexer": "ipython3",
   "version": "3.5.2"
  }
 },
 "nbformat": 4,
 "nbformat_minor": 0
}
