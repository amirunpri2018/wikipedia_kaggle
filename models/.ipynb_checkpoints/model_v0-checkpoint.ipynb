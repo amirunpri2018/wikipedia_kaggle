{
 "cells": [
  {
   "cell_type": "code",
   "execution_count": 39,
   "metadata": {
    "collapsed": true
   },
   "outputs": [],
   "source": [
    "import pandas as pd\n",
    "import numpy as np\n",
    "import sklearn.cluster as skc\n",
    "import sklearn.preprocessing as skp\n",
    "from collections import defaultdict\n",
    "\n",
    "%matplotlib inline\n",
    "import matplotlib\n",
    "import matplotlib.pyplot as plt"
   ]
  },
  {
   "cell_type": "markdown",
   "metadata": {},
   "source": [
    "## Read in Offline Nearest Neighbor processed data "
   ]
  },
  {
   "cell_type": "code",
   "execution_count": 2,
   "metadata": {
    "collapsed": false
   },
   "outputs": [],
   "source": [
    "data_keys = pd.read_csv('../Processing/FrameContainer/DataRows/Data_keys.csv', header=None)\n",
    "data_keys = data_keys.iloc[:,0].tolist()"
   ]
  },
  {
   "cell_type": "code",
   "execution_count": null,
   "metadata": {
    "collapsed": true
   },
   "outputs": [],
   "source": [
    "# for idx in range(0,15):\n",
    "#     print(\"Starting recombination for Query Chunk: %d\" % idx)\n",
    "#     path = '../Processing/FrameContainer/QueryRows/'\n",
    "#     filename = 'Query_Keys_'\n",
    "#     currentKeys = pd.read(path + filename + idx + '.csv')\n",
    "    "
   ]
  },
  {
   "cell_type": "markdown",
   "metadata": {},
   "source": [
    "## Write our files for offline processing"
   ]
  },
  {
   "cell_type": "code",
   "execution_count": null,
   "metadata": {
    "collapsed": true
   },
   "outputs": [],
   "source": [
    "## Pairwise DTF of all \"data-rows\" (10000 rows)"
   ]
  },
  {
   "cell_type": "code",
   "execution_count": null,
   "metadata": {
    "collapsed": false,
    "scrolled": true
   },
   "outputs": [],
   "source": [
    "# n_jobs = -1 to turn on parallel\n",
    "start = timer()\n",
    "K = skm.pairwise_kernels(dataRows_df, metric=dtw, n_jobs=1)\n",
    "end = timer()\n",
    "print(end - start)      \n",
    "\n",
    "np.savetxt(\"Processing/DTW_Matrix.out.gz\", K, delimiter=',')\n",
    "\n",
    "# FASTDTW ON SCALE 4E-4 PER PAIR\n",
    "# AT 10^3 SAMPLES, 10^6 ELS, SO 10^2 SECONDS. Tolerance for production up to 10^4 elements \n",
    "# several hours of runtime"
   ]
  },
  {
   "cell_type": "code",
   "execution_count": null,
   "metadata": {
    "collapsed": true
   },
   "outputs": [],
   "source": [
    "np.savetxt(\"Processing/DTW_Matrix.out.gz\", K, delimiter=',')"
   ]
  },
  {
   "cell_type": "code",
   "execution_count": 4,
   "metadata": {
    "collapsed": false
   },
   "outputs": [],
   "source": [
    "K = np.loadtxt('../Processing/DTW_Matrix.out.gz', delimiter=',')"
   ]
  },
  {
   "cell_type": "markdown",
   "metadata": {},
   "source": [
    "## Hierarchical Clustering"
   ]
  },
  {
   "cell_type": "code",
   "execution_count": 5,
   "metadata": {
    "collapsed": false
   },
   "outputs": [],
   "source": [
    "## Run Hierarchical clustering on the matrix \n",
    "cluster_ward = skc.AgglomerativeClustering(n_clusters=10, affinity='euclidean', connectivity=K, compute_full_tree=True, linkage='ward')\n",
    "# cluster_complete = skc.AgglomerativeClustering(n_clusters=10, affinity='euclidean', connectivity=K, compute_full_tree=True, linkage='complete')\n",
    "# cluster_average = skc.AgglomerativeClustering(n_clusters=10, affinity='euclidean', connectivity=K, compute_full_tree=True, linkage='average')\n",
    "\n",
    "# Predict the class labels\n",
    "labels_ward = cluster_ward.fit_predict(K)\n",
    "# labels_complete = cluster_complete.fit_predict(K)\n",
    "# labels_average = cluster_average.fit_predict(K)"
   ]
  },
  {
   "cell_type": "markdown",
   "metadata": {
    "collapsed": true
   },
   "source": [
    "## Read-in Offline Processed Files"
   ]
  },
  {
   "cell_type": "code",
   "execution_count": 11,
   "metadata": {
    "collapsed": false
   },
   "outputs": [],
   "source": [
    "# Helpful dict structure\n",
    "labeled_data = dict(list(zip(data_keys, labels_ward)))"
   ]
  },
  {
   "cell_type": "code",
   "execution_count": 21,
   "metadata": {
    "collapsed": false
   },
   "outputs": [
    {
     "name": "stdout",
     "output_type": "stream",
     "text": [
      "Starting join process for Query Chunk: 0\n",
      "Starting join process for Query Chunk: 1\n",
      "Starting join process for Query Chunk: 2\n",
      "Starting join process for Query Chunk: 3\n",
      "Starting join process for Query Chunk: 4\n",
      "Starting join process for Query Chunk: 5\n",
      "Starting join process for Query Chunk: 6\n",
      "Starting join process for Query Chunk: 7\n",
      "Starting join process for Query Chunk: 8\n",
      "Starting join process for Query Chunk: 9\n",
      "Starting join process for Query Chunk: 10\n",
      "Starting join process for Query Chunk: 11\n",
      "Starting join process for Query Chunk: 12\n",
      "Starting join process for Query Chunk: 13\n",
      "Starting join process for Query Chunk: 14\n"
     ]
    }
   ],
   "source": [
    "dataResult_PATH = '../Processing/FrameContainer/DataRows/Data_Keys.csv'\n",
    "data_keys = pd.read_csv(dataResult_PATH, delimiter='\\n', header=None)\n",
    "data_keys = data_keys[0].values.tolist()\n",
    "\n",
    "for idx in range(0,15):\n",
    "    print(\"Starting join process for Query Chunk: %d\" % idx)\n",
    "    \n",
    "    outResult_PATH = '../Processing/FrameContainer/OutRows/'\n",
    "    queryKey_PATH = '../Processing/FrameContainer/QueryRows/'\n",
    "    \n",
    "    out_FNAME = 'Out_Rows_'\n",
    "    query_FNAME = 'Query_Keys_'\n",
    "    \n",
    "    queryIndices = pd.read_csv(queryKey_PATH + query_FNAME + str(idx) + '.csv', delimiter='\\n', header=None)\n",
    "    searchResults = pd.read_csv(outResult_PATH + out_FNAME + str(idx) + '.txt', delimiter='\\n', header=None)\n",
    "    \n",
    "    queryIndices = queryIndices[0].values.tolist()\n",
    "    searchResults = searchResults[0].values.tolist()\n",
    "    # Map search results to corresponding data row index\n",
    "    mappedResults = [data_keys[i] for i in searchResults]\n",
    "    \n",
    "    for idx, q in enumerate(queryIndices):\n",
    "        labeled_data[q] = labeled_data[mappedResults[idx]]\n",
    "\n",
    "class_data = defaultdict(list)\n",
    "for k, v in labeled_data.items():\n",
    "    class_data[v].append(k)"
   ]
  },
  {
   "cell_type": "code",
   "execution_count": 24,
   "metadata": {
    "collapsed": false
   },
   "outputs": [
    {
     "name": "stdout",
     "output_type": "stream",
     "text": [
      "Label 0 | Class size: 982\n",
      "Label 1 | Class size: 5908\n",
      "Label 2 | Class size: 2915\n",
      "Label 3 | Class size: 2991\n",
      "Label 4 | Class size: 21433\n",
      "Label 5 | Class size: 20520\n",
      "Label 6 | Class size: 89502\n",
      "Label 7 | Class size: 247\n",
      "Label 8 | Class size: 186\n",
      "Label 9 | Class size: 379\n"
     ]
    }
   ],
   "source": [
    "for k in class_data.keys():\n",
    "    print(\"Label %d | Class size: %d\" % (k, len(class_data[k])))"
   ]
  },
  {
   "cell_type": "markdown",
   "metadata": {},
   "source": [
    "## OPTIONAL LOOK IN CLASSES"
   ]
  },
  {
   "cell_type": "code",
   "execution_count": 26,
   "metadata": {
    "collapsed": false
   },
   "outputs": [],
   "source": [
    "rawData_df = pd.read_csv('../input/train_1.csv')"
   ]
  },
  {
   "cell_type": "code",
   "execution_count": 58,
   "metadata": {
    "collapsed": false
   },
   "outputs": [
    {
     "name": "stderr",
     "output_type": "stream",
     "text": [
      "/Users/Matthew/miniconda3/envs/bleedingEdge/lib/python3.5/site-packages/sklearn/utils/validation.py:429: DataConversionWarning: Data with input dtype object was converted to float64 by MinMaxScaler.\n",
      "  warnings.warn(msg, _DataConversionWarning)\n",
      "/Users/Matthew/miniconda3/envs/bleedingEdge/lib/python3.5/site-packages/sklearn/preprocessing/data.py:321: DeprecationWarning: Passing 1d arrays as data is deprecated in 0.17 and will raise ValueError in 0.19. Reshape your data either using X.reshape(-1, 1) if your data has a single feature or X.reshape(1, -1) if it contains a single sample.\n",
      "  warnings.warn(DEPRECATION_MSG_1D, DeprecationWarning)\n",
      "/Users/Matthew/miniconda3/envs/bleedingEdge/lib/python3.5/site-packages/sklearn/preprocessing/data.py:356: DeprecationWarning: Passing 1d arrays as data is deprecated in 0.17 and will raise ValueError in 0.19. Reshape your data either using X.reshape(-1, 1) if your data has a single feature or X.reshape(1, -1) if it contains a single sample.\n",
      "  warnings.warn(DEPRECATION_MSG_1D, DeprecationWarning)\n",
      "/Users/Matthew/miniconda3/envs/bleedingEdge/lib/python3.5/site-packages/sklearn/preprocessing/data.py:321: DeprecationWarning: Passing 1d arrays as data is deprecated in 0.17 and will raise ValueError in 0.19. Reshape your data either using X.reshape(-1, 1) if your data has a single feature or X.reshape(1, -1) if it contains a single sample.\n",
      "  warnings.warn(DEPRECATION_MSG_1D, DeprecationWarning)\n",
      "/Users/Matthew/miniconda3/envs/bleedingEdge/lib/python3.5/site-packages/sklearn/preprocessing/data.py:356: DeprecationWarning: Passing 1d arrays as data is deprecated in 0.17 and will raise ValueError in 0.19. Reshape your data either using X.reshape(-1, 1) if your data has a single feature or X.reshape(1, -1) if it contains a single sample.\n",
      "  warnings.warn(DEPRECATION_MSG_1D, DeprecationWarning)\n"
     ]
    },
    {
     "data": {
      "text/plain": [
       "<matplotlib.axes._subplots.AxesSubplot at 0x1204912e8>"
      ]
     },
     "execution_count": 58,
     "metadata": {},
     "output_type": "execute_result"
    },
    {
     "data": {
      "image/png": "[encoded data removed]",
      "text/plain": [
       "<matplotlib.figure.Figure at 0x11b4ba0f0>"
      ]
     },
     "metadata": {},
     "output_type": "display_data"
    }
   ],
   "source": [
    "CHECK_LABEL = 6\n",
    "r1 = class_data[CHECK_LABEL][12]\n",
    "r2 = class_data[CHECK_LABEL][40]\n",
    "\n",
    "r1dat = skp.MinMaxScaler().fit_transform(rawData_df.ix[r1,1:].values)\n",
    "r2dat = skp.MinMaxScaler().fit_transform(rawData_df.ix[r2,1:].values)\n",
    "\n",
    "first = pd.Series(r1dat, index=rawData_df.columns[1:])\n",
    "first.plot()\n",
    "\n",
    "second = pd.Series(r2dat, index=rawData_df.columns[1:])\n",
    "second.plot()"
   ]
  },
  {
   "cell_type": "code",
   "execution_count": null,
   "metadata": {
    "collapsed": true
   },
   "outputs": [],
   "source": []
  }
 ],
 "metadata": {
  "kernelspec": {
   "display_name": "Python 3",
   "language": "python",
   "name": "python3"
  },
  "language_info": {
   "codemirror_mode": {
    "name": "ipython",
    "version": 3
   },
   "file_extension": ".py",
   "mimetype": "text/x-python",
   "name": "python",
   "nbconvert_exporter": "python",
   "pygments_lexer": "ipython3",
   "version": "3.5.2"
  }
 },
 "nbformat": 4,
 "nbformat_minor": 0
}
