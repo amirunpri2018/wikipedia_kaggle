{
 "cells": [
  {
   "cell_type": "code",
   "execution_count": 29,
   "metadata": {
    "collapsed": true
   },
   "outputs": [],
   "source": [
    "import pandas as pd\n",
    "import numpy as np\n",
    "import sklearn.cluster as skc"
   ]
  },
  {
   "cell_type": "markdown",
   "metadata": {},
   "source": [
    "## Read in Offline Nearest Neighbor processed data "
   ]
  },
  {
   "cell_type": "code",
   "execution_count": 14,
   "metadata": {
    "collapsed": false
   },
   "outputs": [],
   "source": [
    "data_keys = pd.read_csv('../Processing/FrameContainer/DataRows/Data_keys.csv', header=None)\n",
    "data_keys = data_keys.iloc[:,0].tolist()"
   ]
  },
  {
   "cell_type": "code",
   "execution_count": null,
   "metadata": {
    "collapsed": true
   },
   "outputs": [],
   "source": [
    "for idx in range(0,15):\n",
    "    print(\"Starting recombination for Query Chunk: %d\" % idx)\n",
    "    path = '../Processing/FrameContainer/QueryRows/'\n",
    "    filename = 'Query_Keys_'\n",
    "    currentKeys = pd.read(path + filename + idx + '.csv')\n",
    "    "
   ]
  },
  {
   "cell_type": "markdown",
   "metadata": {},
   "source": [
    "## Write our files for offline processing"
   ]
  },
  {
   "cell_type": "code",
   "execution_count": null,
   "metadata": {
    "collapsed": true
   },
   "outputs": [],
   "source": [
    "## Pairwise DTF of all \"data-rows\" (10000 rows)"
   ]
  },
  {
   "cell_type": "code",
   "execution_count": null,
   "metadata": {
    "collapsed": false,
    "scrolled": true
   },
   "outputs": [],
   "source": [
    "# n_jobs = -1 to turn on parallel\n",
    "start = timer()\n",
    "K = skm.pairwise_kernels(dataRows_df, metric=dtw, n_jobs=1)\n",
    "end = timer()\n",
    "print(end - start)      \n",
    "\n",
    "np.savetxt(\"Processing/DTW_Matrix.out.gz\", K, delimiter=',')\n",
    "\n",
    "# FASTDTW ON SCALE 4E-4 PER PAIR\n",
    "# AT 10^3 SAMPLES, 10^6 ELS, SO 10^2 SECONDS. Tolerance for production up to 10^4 elements \n",
    "# several hours of runtime"
   ]
  },
  {
   "cell_type": "code",
   "execution_count": null,
   "metadata": {
    "collapsed": true
   },
   "outputs": [],
   "source": [
    "np.savetxt(\"Processing/DTW_Matrix.out.gz\", K, delimiter=',')\n"
   ]
  },
  {
   "cell_type": "code",
   "execution_count": 23,
   "metadata": {
    "collapsed": false
   },
   "outputs": [],
   "source": [
    "K = np.loadtxt('../Processing/DTW_Matrix.out.gz', delimiter=',')"
   ]
  },
  {
   "cell_type": "code",
   "execution_count": 30,
   "metadata": {
    "collapsed": false
   },
   "outputs": [],
   "source": [
    "## Run Hierarchical clustering on the matrix \n",
    "cluster_ward = skc.AgglomerativeClustering(n_clusters=10, affinity='euclidean', connectivity=K, compute_full_tree=True, linkage='ward')\n",
    "cluster_complete = skc.AgglomerativeClustering(n_clusters=10, affinity='euclidean', connectivity=K, compute_full_tree=True, linkage='complete')\n",
    "cluster_average = skc.AgglomerativeClustering(n_clusters=10, affinity='euclidean', connectivity=K, compute_full_tree=True, linkage='average')\n",
    "\n",
    "\n",
    "\n",
    "labels = cluster.fit_predict(K)"
   ]
  },
  {
   "cell_type": "code",
   "execution_count": 31,
   "metadata": {
    "collapsed": false
   },
   "outputs": [
    {
     "data": {
      "text/plain": [
       "array([6, 6, 6, 6, 6, 6, 6, 1, 6, 6, 6, 6, 6, 4, 1, 6, 6, 5, 6, 4, 5, 5, 6,\n",
       "       5, 4, 6, 5, 6, 5, 4, 6, 6, 4, 6, 6, 6, 3, 6, 6, 6, 6, 6, 6, 6, 6, 6,\n",
       "       6, 5, 6, 6, 6, 6, 4, 6, 6, 6, 4, 5, 6, 6, 5, 6, 6, 6, 6, 6, 6, 6, 4,\n",
       "       6, 1, 6, 6, 1, 4, 6, 6, 5, 4, 3, 6, 6, 3, 2, 5, 6, 4, 6, 3, 5, 4, 6,\n",
       "       5, 6, 6, 6, 6, 4, 5, 6, 6, 0, 6, 6, 6, 4, 4, 6, 6, 6, 6, 6, 6, 3, 4,\n",
       "       6, 6, 6, 6, 6, 6, 6, 6, 6, 4, 6, 2, 6, 6, 6, 6, 6, 6, 6, 5, 6, 6, 6,\n",
       "       6, 6, 6, 6, 6, 0, 6, 6, 6, 1, 4, 6, 6, 4, 6, 6, 4, 6, 6, 4, 6, 6, 5,\n",
       "       6, 6, 5, 6, 6, 6, 6, 4, 6, 6, 6, 5, 2, 6, 6, 6, 6, 1, 3, 6, 6, 4, 3,\n",
       "       6, 6, 1, 6, 6, 1, 6, 6, 1, 4, 6, 3, 6, 5, 6, 6, 6, 6, 6, 6, 1, 6, 4,\n",
       "       6, 6, 4, 6, 6, 6, 6, 4, 5, 6, 6, 6, 6, 6, 6, 6, 6, 6, 6, 6, 2, 6, 6,\n",
       "       6, 0, 6, 6, 6, 6, 6, 6, 6, 6, 5, 6, 6, 6, 6, 6, 3, 1, 6, 1, 6, 6, 6,\n",
       "       6, 6, 6, 6, 4, 4, 1, 6, 4, 6, 2, 8, 5, 4, 4, 4, 4, 1, 6, 6, 6, 6, 5,\n",
       "       6, 6, 5, 5, 4, 6, 6, 4, 4, 6, 6, 6, 6, 6, 4, 6, 6, 5, 6, 6, 9, 5, 1,\n",
       "       6, 4, 6, 6, 6, 6, 6, 3, 6, 6, 6, 4, 6, 6, 4, 6, 1, 1, 5, 5, 6, 6, 6,\n",
       "       4, 6, 6, 5, 6, 0, 6, 6, 4, 6, 4, 6, 6, 4, 5, 4, 4, 6, 5, 6, 4, 6, 6,\n",
       "       5, 6, 4, 5, 5, 6, 6, 6, 6, 6, 5, 5, 5, 6, 4, 4, 6, 6, 5, 6, 6, 6, 6,\n",
       "       4, 1, 6, 6, 6, 4, 6, 4, 2, 5, 6, 6, 4, 6, 2, 5, 6, 6, 2, 5, 6, 3, 6,\n",
       "       6, 4, 6, 3, 6, 6, 6, 6, 6, 6, 6, 6, 6, 6, 4, 6, 6, 4, 6, 6, 6, 6, 5,\n",
       "       6, 6, 6, 6, 6, 4, 6, 1, 4, 6, 6, 4, 4, 6, 6, 4, 4, 6, 5, 6, 6, 5, 1,\n",
       "       6, 6, 5, 6, 6, 6, 4, 1, 5, 6, 4, 6, 6, 4, 6, 0, 6, 4, 6, 6, 6, 6, 6,\n",
       "       6, 6, 1, 6, 4, 6, 6, 6, 4, 6, 6, 6, 6, 6, 6, 5, 6, 6, 1, 4, 6, 9, 6,\n",
       "       4, 6, 6, 6, 1, 6, 4, 4, 6, 4, 2, 5, 6, 6, 4, 6, 6, 6, 6, 6, 4, 6, 6,\n",
       "       5, 6, 6, 4, 4, 5, 5, 6, 6, 6, 6, 6, 6, 6, 4, 4, 6, 5, 6, 5, 6, 6, 6,\n",
       "       5, 6, 6, 5, 2, 5, 6, 4, 6, 7, 6, 6, 5, 6, 6, 6, 6, 6, 1, 6, 6, 6, 6,\n",
       "       6, 4, 6, 6, 6, 6, 1, 5, 4, 4, 6, 6, 6, 6, 6, 6, 4, 6, 6, 6, 4, 4, 6,\n",
       "       6, 1, 5, 6, 0, 6, 6, 6, 6, 6, 6, 4, 1, 6, 6, 5, 5, 4, 6, 6, 6, 1, 6,\n",
       "       5, 4, 6, 6, 6, 2, 4, 6, 6, 5, 4, 2, 6, 6, 6, 5, 6, 5, 6, 5, 6, 1, 4,\n",
       "       5, 4, 6, 6, 6, 6, 5, 5, 4, 6, 4, 4, 2, 6, 6, 6, 1, 5, 6, 5, 5, 6, 6,\n",
       "       5, 6, 6, 6, 6, 5, 6, 5, 6, 6, 5, 4, 6, 6, 4, 6, 6, 6, 6, 4, 6, 6, 6,\n",
       "       4, 6, 6, 6, 6, 6, 6, 6, 5, 6, 6, 6, 6, 5, 6, 1, 4, 6, 6, 5, 4, 6, 6,\n",
       "       6, 6, 6, 6, 6, 6, 6, 6, 6, 4, 6, 6, 4, 5, 4, 6, 6, 1, 6, 6, 4, 6, 3,\n",
       "       6, 6, 4, 4, 6, 6, 6, 4, 1, 5, 5, 6, 4, 6, 6, 6, 6, 6, 1, 4, 1, 6, 5,\n",
       "       4, 6, 6, 5, 6, 6, 6, 6, 5, 6, 6, 6, 6, 5, 6, 2, 6, 6, 6, 6, 6, 6, 5,\n",
       "       4, 6, 6, 4, 6, 6, 6, 6, 6, 5, 6, 6, 1, 6, 6, 6, 5, 6, 6, 6, 5, 6, 4,\n",
       "       6, 6, 6, 6, 4, 4, 6, 6, 6, 3, 6, 6, 6, 6, 6, 5, 5, 6, 6, 6, 4, 1, 6,\n",
       "       6, 1, 6, 4, 6, 6, 5, 1, 4, 4, 6, 4, 6, 6, 6, 6, 1, 4, 8, 6, 6, 6, 9,\n",
       "       1, 6, 4, 4, 6, 5, 4, 6, 3, 6, 0, 6, 1, 6, 6, 4, 6, 6, 6, 6, 3, 6, 4,\n",
       "       4, 5, 6, 4, 6, 4, 4, 6, 6, 0, 0, 6, 5, 6, 6, 6, 6, 6, 5, 6, 6, 6, 6,\n",
       "       5, 6, 6, 5, 4, 5, 6, 6, 3, 6, 6, 6, 6, 6, 6, 6, 6, 4, 6, 6, 5, 5, 6,\n",
       "       6, 4, 6, 4, 1, 6, 4, 6, 6, 6, 6, 6, 2, 5, 2, 5, 6, 6, 6, 6, 6, 4, 6,\n",
       "       4, 3, 4, 9, 4, 6, 6, 0, 6, 6, 5, 6, 6, 6, 3, 6, 5, 6, 6, 6, 6, 6, 6,\n",
       "       6, 6, 6, 4, 4, 4, 6, 6, 4, 6, 6, 6, 6, 5, 5, 6, 3, 6, 5, 6, 0, 6, 2,\n",
       "       5, 4, 6, 6, 6, 4, 6, 4, 1, 6, 6, 4, 6, 6, 6, 6, 6, 6, 6, 3, 6, 6, 6,\n",
       "       6, 6, 4, 6, 4, 4, 6, 0, 4, 6, 6])"
      ]
     },
     "execution_count": 31,
     "metadata": {},
     "output_type": "execute_result"
    }
   ],
   "source": [
    "labels"
   ]
  },
  {
   "cell_type": "code",
   "execution_count": null,
   "metadata": {
    "collapsed": true
   },
   "outputs": [],
   "source": []
  }
 ],
 "metadata": {
  "kernelspec": {
   "display_name": "Python 3",
   "language": "python",
   "name": "python3"
  },
  "language_info": {
   "codemirror_mode": {
    "name": "ipython",
    "version": 3
   },
   "file_extension": ".py",
   "mimetype": "text/x-python",
   "name": "python",
   "nbconvert_exporter": "python",
   "pygments_lexer": "ipython3",
   "version": "3.5.2"
  }
 },
 "nbformat": 4,
 "nbformat_minor": 0
}
