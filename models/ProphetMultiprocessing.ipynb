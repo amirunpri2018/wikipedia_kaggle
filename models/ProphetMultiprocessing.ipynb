{
 "cells": [
  {
   "cell_type": "code",
   "execution_count": 48,
   "metadata": {
    "collapsed": true
   },
   "outputs": [],
   "source": [
    "import pandas as pd\n",
    "import numpy as np\n",
    "from collections import defaultdict\n",
    "from fbprophet import Prophet\n",
    "import datetime\n",
    "import multiprocessing\n",
    "import sys"
   ]
  },
  {
   "cell_type": "markdown",
   "metadata": {},
   "source": [
    "# Read in Raw Data and Keys"
   ]
  },
  {
   "cell_type": "code",
   "execution_count": 3,
   "metadata": {
    "collapsed": true
   },
   "outputs": [],
   "source": [
    "rawData_df = pd.read_csv('../input/train_1.csv').T"
   ]
  },
  {
   "cell_type": "code",
   "execution_count": 4,
   "metadata": {
    "collapsed": true
   },
   "outputs": [],
   "source": [
    "keys_df = pd.read_csv('../input/key_1.csv')"
   ]
  },
  {
   "cell_type": "markdown",
   "metadata": {},
   "source": [
    "# Create Date Range"
   ]
  },
  {
   "cell_type": "code",
   "execution_count": 5,
   "metadata": {
    "collapsed": false
   },
   "outputs": [],
   "source": [
    "date_start = datetime.date(2017, 1, 1)\n",
    "date_end = datetime.date(2017, 3, 1)\n",
    "num_days = 60\n",
    "\n",
    "date_list = [date_start + datetime.timedelta(days=x) for x in range(0, num_days)]"
   ]
  },
  {
   "cell_type": "markdown",
   "metadata": {},
   "source": [
    "# Build a Mapping Dictionary: {Page -> Hash Id's}"
   ]
  },
  {
   "cell_type": "code",
   "execution_count": 6,
   "metadata": {
    "collapsed": false
   },
   "outputs": [],
   "source": [
    "all_pages = rawData_df.iloc[0,:].tolist()\n",
    "\n",
    "date_dict = dict(zip(keys_df['Page'].tolist(), keys_df['Id'].tolist()))"
   ]
  },
  {
   "cell_type": "code",
   "execution_count": 7,
   "metadata": {
    "collapsed": false
   },
   "outputs": [],
   "source": [
    "mapping_dict = defaultdict(list)\n",
    "for page in all_pages:\n",
    "    for date in date_list: \n",
    "        tmp = page + '_' + date.strftime('%Y-%m-%d')\n",
    "        mapping_dict[page].append(date_dict[tmp])\n"
   ]
  },
  {
   "cell_type": "markdown",
   "metadata": {},
   "source": [
    "# Date Dataframe for Future Prediction"
   ]
  },
  {
   "cell_type": "code",
   "execution_count": 10,
   "metadata": {
    "collapsed": false
   },
   "outputs": [],
   "source": [
    "future_df = pd.DataFrame(date_list, columns=['ds'])"
   ]
  },
  {
   "cell_type": "markdown",
   "metadata": {},
   "source": [
    "### Set up Multiprocessing"
   ]
  },
  {
   "cell_type": "code",
   "execution_count": 45,
   "metadata": {
    "collapsed": true
   },
   "outputs": [],
   "source": [
    "FORECAST_DIR = 'forecasts/'"
   ]
  },
  {
   "cell_type": "code",
   "execution_count": 43,
   "metadata": {
    "collapsed": false
   },
   "outputs": [],
   "source": [
    "def ProcessTimeSeries(idx):\n",
    "    # Get the page name\n",
    "    page_name = rawData_df.iloc[0, idx]\n",
    "    \n",
    "    test_df = rawData_df.iloc[1:, idx].to_frame().reset_index().fillna(method='ffill')\n",
    "    test_df.columns = ['ds','y']\n",
    "    test_df['ds'] = pd.to_datetime(test_df['ds'],format='%Y-%m-%d')\n",
    "    \n",
    "    # Train Out-of-the-box Prophet on the test dataframe\n",
    "    m = Prophet(yearly_seasonality=True)\n",
    "    m.fit(test_df)\n",
    "    \n",
    "    forecast = m.predict(future_df)\n",
    "    forecast = forecast[['ds', 'yhat']]\n",
    "    forecast['hash'] = pd.Series(mapping_dict[page_name], index=forecast.index)\n",
    "    \n",
    "    return {'page':page_name,\n",
    "            'forecast':forecast.round(4)\n",
    "           }"
   ]
  },
  {
   "cell_type": "markdown",
   "metadata": {},
   "source": [
    "### Run Multiprocessing"
   ]
  },
  {
   "cell_type": "code",
   "execution_count": 47,
   "metadata": {
    "collapsed": false
   },
   "outputs": [],
   "source": [
    "pool = multiprocessing.Pool()\n",
    "\n",
    "for resframe in pool.imap_unordered(ProcessTimeSeries, list(range(0,rawData_df.shape[1]))):\n",
    "    resframe['forecast'].to_csv(FORECAST_DIR + resframe['page']+'.csv')\n",
    "    \n",
    "pool.close()\n",
    "pool.join()\n",
    "                     "
   ]
  },
  {
   "cell_type": "code",
   "execution_count": null,
   "metadata": {
    "collapsed": true
   },
   "outputs": [],
   "source": []
  }
 ],
 "metadata": {
  "kernelspec": {
   "display_name": "Python 3",
   "language": "python",
   "name": "python3"
  },
  "language_info": {
   "codemirror_mode": {
    "name": "ipython",
    "version": 3
   },
   "file_extension": ".py",
   "mimetype": "text/x-python",
   "name": "python",
   "nbconvert_exporter": "python",
   "pygments_lexer": "ipython3",
   "version": "3.5.2"
  }
 },
 "nbformat": 4,
 "nbformat_minor": 0
}
