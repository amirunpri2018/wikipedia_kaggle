{
 "cells": [
  {
   "cell_type": "code",
   "execution_count": null,
   "metadata": {
    "collapsed": true
   },
   "outputs": [],
   "source": [
    "import sklearn.metrics.pairwise as skm\n",
    "import sklearn.preprocessing as skp\n",
    "import pandas as pd\n",
    "import numpy as np\n",
    "import fastdtw\n",
    "from timeit import default_timer as timer\n",
    "import sklearn.cluster as skc\n",
    "from sklearn.model_selection import train_test_split"
   ]
  },
  {
   "cell_type": "markdown",
   "metadata": {},
   "source": [
    "## Import Dynamic-Time-Warping (DTW) routine"
   ]
  },
  {
   "cell_type": "code",
   "execution_count": null,
   "metadata": {
    "collapsed": true
   },
   "outputs": [],
   "source": [
    "def dtw(arr1, arr2):\n",
    "    error, _ = fastdtw.fastdtw(arr1, arr2, radius=1, dist=2)\n",
    "    return error"
   ]
  },
  {
   "cell_type": "markdown",
   "metadata": {},
   "source": [
    "## Read-in and Normalize data"
   ]
  },
  {
   "cell_type": "code",
   "execution_count": null,
   "metadata": {
    "collapsed": true
   },
   "outputs": [],
   "source": [
    "rawData_df = pd.read_csv('../input/train_1.csv')\n",
    "print(rawData_df.shape)\n",
    "# Fill all NaN with zeros\n",
    "rawData_df.fillna(value=0.0,inplace=True)\n",
    "rawData_df.drop('Page',axis=1,inplace=True)\n",
    "\n",
    "# Shuffle the dataframe but do not reset indices\n",
    "rawData_df = rawData_df.sample(frac=1)\n",
    "\n",
    "# Could also scale [0,1/N] or z-normalize\n",
    "scaled_data = skp.MinMaxScaler(feature_range=(0, 1), copy=True).fit_transform(rawData_df)\n",
    "\n",
    "scaledData_df = pd.DataFrame(data=scaled_data,  # values\n",
    "                index=rawData_df.index.values,  # 1st column as index\n",
    "                columns=rawData_df.columns)     # 1st row as the column names"
   ]
  },
  {
   "cell_type": "markdown",
   "metadata": {},
   "source": [
    "# Split dataframe [data rows | query rows]"
   ]
  },
  {
   "cell_type": "markdown",
   "metadata": {},
   "source": [
    "### Write Data Rows to file"
   ]
  },
  {
   "cell_type": "code",
   "execution_count": null,
   "metadata": {
    "collapsed": true
   },
   "outputs": [],
   "source": [
    "dataRows_df = scaledData_df.iloc[:1000]\n",
    "\n",
    "# Write some sample rows to file\n",
    "dataRows_df.to_csv(path_or_buf='../Processing/FrameContainer/DataRows/Data_Rows.txt', header=False, sep=' ',index=False, index_label=False, line_terminator=' ', na_rep=0.0)\n",
    "\n",
    "dataRow_key = open('../Processing/FrameContainer/DataRows/Data_Keys.csv', 'w')\n",
    "\n",
    "for item in dataRows_df.index.tolist():\n",
    "    dataRow_key.write(\"%d\\n\" % item)\n",
    "\n",
    "dataRow_key.close()"
   ]
  },
  {
   "cell_type": "code",
   "execution_count": null,
   "metadata": {
    "collapsed": true
   },
   "outputs": [],
   "source": [
    "# Determine split points for processing sets\n",
    "splitPoints = list(range(1000, len(scaledData_df), 10000))\n",
    "print(splitPoints)"
   ]
  },
  {
   "cell_type": "markdown",
   "metadata": {},
   "source": [
    "### Write Query Rows to file"
   ]
  },
  {
   "cell_type": "code",
   "execution_count": null,
   "metadata": {
    "collapsed": true
   },
   "outputs": [],
   "source": [
    "splitPoints = list(range(1000, len(scaledData_df), 10000))\n",
    "for i, val in enumerate(splitPoints):\n",
    "    tmpQueryRows = scaledData_df.iloc[val:val+10000]\n",
    "    filePath = '../Processing/FrameContainer/QueryRows/Query_Rows_' + str(i) + '.txt' \n",
    "    tmpQueryRows.to_csv(path_or_buf=filePath, header=False, sep=' ',index=False, index_label=False, line_terminator=' ', na_rep=0.0)\n",
    "    print(filePath)\n",
    "    \n",
    "    queryRow_key = open('../Processing/FrameContainer/QueryRows/Query_Keys_' + str(i) + '.csv', 'w')\n",
    "\n",
    "    for item in tmpQueryRows.index.tolist():\n",
    "        queryRow_key.write(\"%d\\n\" % item)\n",
    "    \n",
    "    queryRow_key.close()"
   ]
  },
  {
   "cell_type": "code",
   "execution_count": null,
   "metadata": {
    "collapsed": true
   },
   "outputs": [],
   "source": []
  }
 ],
 "metadata": {
  "kernelspec": {
   "display_name": "Python 3",
   "language": "python",
   "name": "python3"
  },
  "language_info": {
   "codemirror_mode": {
    "name": "ipython",
    "version": 3
   },
   "file_extension": ".py",
   "mimetype": "text/x-python",
   "name": "python",
   "nbconvert_exporter": "python",
   "pygments_lexer": "ipython3",
   "version": "3.5.2"
  }
 },
 "nbformat": 4,
 "nbformat_minor": 0
}
